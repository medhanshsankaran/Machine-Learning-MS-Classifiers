{
 "cells": [
  {
   "cell_type": "code",
   "execution_count": 1,
   "id": "97b6c523",
   "metadata": {},
   "outputs": [],
   "source": [
    "import sys\n",
    "import os\n",
    "import pandas as pd\n",
    "import numpy as np\n",
    "import matplotlib.pyplot as plt\n",
    "from sklearn.preprocessing import StandardScaler, LabelEncoder\n",
    "from sklearn.model_selection import train_test_split, GridSearchCV\n",
    "from sklearn.linear_model import LogisticRegression\n",
    "from sklearn.metrics import accuracy_score, classification_report, confusion_matrix\n",
    "from sklearn.svm import SVC\n",
    "from itertools import combinations\n",
    "from sklearn.preprocessing import LabelEncoder"
   ]
  },
  {
   "cell_type": "code",
   "execution_count": 2,
   "id": "7fe76ca6",
   "metadata": {},
   "outputs": [],
   "source": [
    "df = pd.read_csv(\"Data/project_adult.csv\", encoding='utf-8')"
   ]
  },
  {
   "cell_type": "code",
   "execution_count": 3,
   "id": "73a451bc",
   "metadata": {},
   "outputs": [],
   "source": [
    "df_valid = pd.read_csv(\"Data/project_validation_inputs.csv\", encoding='utf-8')"
   ]
  },
  {
   "cell_type": "code",
   "execution_count": 4,
   "id": "c7ad9efa",
   "metadata": {},
   "outputs": [],
   "source": [
    "# process and standardize data\n",
    "# This is not an all inclusive function....you should improve!\n",
    "def preprocess_data(df):\n",
    "\n",
    "    # Handle missing values by replacing '?' with NaN and dropping rows\n",
    "    for col in df.columns:\n",
    "        df[col] = df[col].replace('?', pd.NA)\n",
    "\n",
    "\n",
    "    df = df.dropna()\n",
    "\n",
    "    # Drop unnamed column if it exists\n",
    "    if 'Unnamed: 0' in df.columns:\n",
    "        df = df.drop('Unnamed: 0', axis=1)\n",
    "\n",
    "    # split off target early (if present)\n",
    "    y = None\n",
    "    if 'income' in df.columns:\n",
    "        y = df['income']\n",
    "        df = df.drop(columns=['income'])\n",
    "\n",
    "    if y is not None:\n",
    "        le = LabelEncoder()\n",
    "        y = le.fit_transform(y).astype(int)  # encode target as int\n",
    "\n",
    "    # detect numeric vs categorical by attempted coercion\n",
    "    numeric_cols, categorical_cols = [], []\n",
    "    for col in df.columns:\n",
    "        coerced = pd.to_numeric(df[col], errors='coerce')\n",
    "        if coerced.notna().all():\n",
    "            df[col] = coerced.astype(float)   # numeric as float\n",
    "            numeric_cols.append(col)\n",
    "        else:\n",
    "            df[col] = df[col].astype(str)     # categorical as string\n",
    "            categorical_cols.append(col)\n",
    "\n",
    "    # label-encode categoricals only\n",
    "    label_encoders = {}\n",
    "    for col in categorical_cols:\n",
    "        le = LabelEncoder()\n",
    "        df[col] = le.fit_transform(df[col]).astype(int)  # encoded as int\n",
    "        label_encoders[col] = le\n",
    "\n",
    "    # standardize numeric columns only\n",
    "    scaler = StandardScaler()\n",
    "    if numeric_cols:\n",
    "        df[numeric_cols] = scaler.fit_transform(df[numeric_cols].astype(float)).astype(float)\n",
    "\n",
    "    # Encode categorical features\n",
    "    label_encoders = {}\n",
    "    for col in df.select_dtypes(include=['object']).columns:\n",
    "        le = LabelEncoder()\n",
    "        df[col] = le.fit_transform(df[col])\n",
    "        label_encoders[col] = le\n",
    "\n",
    "\n",
    "    # Make X and y arrays\n",
    "    X = df.values.astype(float)\n",
    "    if y is not None:\n",
    "        y = y.astype(int)\n",
    "\n",
    "    return X, y"
   ]
  },
  {
   "cell_type": "code",
   "execution_count": 5,
   "id": "797bd226",
   "metadata": {},
   "outputs": [],
   "source": [
    "def plot_confusion_matrix(cm, y_true):\n",
    "    \"\"\"\n",
    "    Plots the confusion matrix using a heatmap.\n",
    "\n",
    "    Args:\n",
    "        cm (np.ndarray): The confusion matrix.\n",
    "        y_true (np.ndarray): The true labels for the test data.\n",
    "    \"\"\"\n",
    "    # Create the plot using pure matplotlib\n",
    "    fig, ax = plt.subplots(figsize=(8, 6))\n",
    "\n",
    "    # Use imshow to create the heatmap\n",
    "    im = ax.imshow(cm, interpolation='nearest', cmap=plt.cm.Blues)\n",
    "    ax.figure.colorbar(im, ax=ax)\n",
    "\n",
    "    # We want to show all ticks...\n",
    "    ax.set(xticks=np.arange(cm.shape[1]),\n",
    "           yticks=np.arange(cm.shape[0]),\n",
    "           # ... and label them with the unique class names\n",
    "           xticklabels=np.unique(y_true), yticklabels=np.unique(y_true),\n",
    "           title='Confusion Matrix',\n",
    "           ylabel='True label',\n",
    "           xlabel='Predicted label')\n",
    "\n",
    "    # Rotate the tick labels and set their alignment.\n",
    "    plt.setp(ax.get_xticklabels(), rotation=45, ha=\"right\",\n",
    "             rotation_mode=\"anchor\")\n",
    "\n",
    "    # Loop over data dimensions and create text annotations.\n",
    "    fmt = 'd'\n",
    "    thresh = cm.max() / 2.\n",
    "    for i in range(cm.shape[0]):\n",
    "        for j in range(cm.shape[1]):\n",
    "            ax.text(j, i, format(cm[i, j], fmt),\n",
    "                    ha=\"center\", va=\"center\",\n",
    "                    color=\"white\" if cm[i, j] > thresh else \"black\")\n",
    "    fig.tight_layout()\n",
    "    plt.show()"
   ]
  },
  {
   "cell_type": "code",
   "execution_count": 6,
   "id": "68e94996",
   "metadata": {},
   "outputs": [],
   "source": [
    "# preprocess data with created function\n",
    "X, y = preprocess_data(df)"
   ]
  },
  {
   "cell_type": "code",
   "execution_count": 7,
   "id": "f0989aea",
   "metadata": {},
   "outputs": [],
   "source": [
    "# split data into training and test datasets\n",
    "# can specify same proportion of classes in both sets with stratify=y\n",
    "X_train, X_test, y_train, y_test = train_test_split(X, y, test_size=0.25, random_state=42, stratify=y)"
   ]
  },
  {
   "cell_type": "code",
   "execution_count": 8,
   "id": "01072ee3",
   "metadata": {},
   "outputs": [
    {
     "data": {
      "text/plain": [
       "LogisticRegression(max_iter=200, random_state=42)"
      ]
     },
     "execution_count": 8,
     "metadata": {},
     "output_type": "execute_result"
    }
   ],
   "source": [
    "# Initialize the model with default parameters.\n",
    "# For multi-class problems, LogisticRegression uses a one-vs-rest strategy by default.\n",
    "# The 'solver' is set to 'lbfgs' as it's a good default for multi-class problems.\n",
    "model = LogisticRegression(solver='lbfgs', random_state=42, max_iter=200)\n",
    "model.fit(X_train, y_train.ravel())"
   ]
  },
  {
   "cell_type": "code",
   "execution_count": 9,
   "id": "b4f4b015",
   "metadata": {},
   "outputs": [
    {
     "name": "stdout",
     "output_type": "stream",
     "text": [
      "Starting hyperparameter search. This may take a moment...\n",
      "Fitting 5 folds for each of 20 candidates, totalling 100 fits\n",
      "Best cross-validation score: 0.8221\n"
     ]
    }
   ],
   "source": [
    "# We use GridSearchCV to find the best hyperparameters for the model.\n",
    "# Cross-validation (CV) helps to get a more robust estimate of model performance\n",
    "# and prevents overfitting to a single train-test split.\n",
    "\n",
    "# Define the parameter grid to search over.\n",
    "# np.logspace(-4,4,20) tells GridSearchCV to test 20 values for C eenly spaced on logarithmic scale from 10^-4 to 10^4\n",
    "param_grid = {\n",
    "    'C': np.logspace(-4, 4, 20),  # Inverse of regularization strength\n",
    "}\n",
    "\n",
    "# Initialize GridSearchCV with a 5-fold cross-validation strategy.\n",
    "grid_search = GridSearchCV(\n",
    "    estimator=LogisticRegression(solver='lbfgs', random_state=42, max_iter=2000),\n",
    "    param_grid=param_grid,\n",
    "    cv=5,                     # 5-fold cross-validation\n",
    "    scoring='accuracy',       # Metric to optimize for\n",
    "    n_jobs=-1,                # Use all available CPU cores\n",
    "    verbose=1                 # Print progress\n",
    ")\n",
    "\n",
    "print(\"Starting hyperparameter search. This may take a moment...\")\n",
    "grid_search.fit(X_train, y_train.ravel())\n",
    "# Print the best cross-validation score achieved during GridSearchCV\n",
    "print(f\"Best cross-validation score: {grid_search.best_score_:.4f}\")"
   ]
  },
  {
   "cell_type": "code",
   "execution_count": 10,
   "id": "55b1f4ea",
   "metadata": {},
   "outputs": [
    {
     "name": "stdout",
     "output_type": "stream",
     "text": [
      "\n",
      "--- Best Model Found by GridSearchCV ---\n",
      "Best parameters: {'C': 0.03359818286283781}\n",
      "Best cross-validation accuracy: 0.8221\n",
      "\n",
      " Final evaluation of the best model on the test set...\n",
      "Final accuracy on test set: 0.8156\n",
      "\n",
      "Classification Report:\n",
      "              precision    recall  f1-score   support\n",
      "\n",
      "           0       0.84      0.94      0.88      4538\n",
      "           1       0.71      0.44      0.54      1502\n",
      "\n",
      "    accuracy                           0.82      6040\n",
      "   macro avg       0.77      0.69      0.71      6040\n",
      "weighted avg       0.80      0.82      0.80      6040\n",
      "\n",
      "\n",
      "Confusion Matrix:\n",
      "[[4263  275]\n",
      " [ 839  663]]\n"
     ]
    },
    {
     "data": {
      "image/png": "[encoded data removed]",
      "text/plain": [
       "<Figure size 800x600 with 2 Axes>"
      ]
     },
     "metadata": {},
     "output_type": "display_data"
    }
   ],
   "source": [
    "# Get the best estimator from the search.\n",
    "best_model = grid_search.best_estimator_\n",
    "\n",
    "print(\"\\n--- Best Model Found by GridSearchCV ---\")\n",
    "print(f\"Best parameters: {grid_search.best_params_}\")\n",
    "print(f\"Best cross-validation accuracy: {grid_search.best_score_:.4f}\")\n",
    "\n",
    "print(\"\\n Final evaluation of the best model on the test set...\")\n",
    "# Predict using the best model found during the search.\n",
    "final_y_pred = best_model.predict(X_test)\n",
    "final_accuracy = accuracy_score(y_test, final_y_pred)\n",
    "\n",
    "print(f\"Final accuracy on test set: {final_accuracy:.4f}\")\n",
    "print(\"\\nClassification Report:\")\n",
    "print(classification_report(y_test, final_y_pred))\n",
    "\n",
    "print(\"\\nConfusion Matrix:\")\n",
    "cm = confusion_matrix(y_test, final_y_pred)\n",
    "print(cm)\n",
    "\n",
    "# Plot the predictions and the confusion matrix\n",
    "plot_confusion_matrix(cm, y_test)"
   ]
  },
  {
   "cell_type": "code",
   "execution_count": 11,
   "id": "caded363",
   "metadata": {},
   "outputs": [],
   "source": [
    "# Make predictions on the validation dataset using the best GridSearchCV model\n",
    "X_valid, y_valid = preprocess_data(df_valid)  # No target variable in validation set\n",
    "\n",
    "y_valid_pred = best_model.predict(X_valid)\n",
    "\n",
    "# Convert to a df and save to csv\n",
    "df_valid_pred = pd.DataFrame(y_valid_pred, columns=['Predicted_Income'])\n",
    "df_valid_pred.to_csv(\"Data/validation_predictions/Group_8_LogisticRegression_PredictedOutputs.csv\", index=False)"
   ]
  }
 ],
 "metadata": {
  "kernelspec": {
   "display_name": "Python 3",
   "language": "python",
   "name": "python3"
  },
  "language_info": {
   "codemirror_mode": {
    "name": "ipython",
    "version": 3
   },
   "file_extension": ".py",
   "mimetype": "text/x-python",
   "name": "python",
   "nbconvert_exporter": "python",
   "pygments_lexer": "ipython3",
   "version": "3.9.23"
  }
 },
 "nbformat": 4,
 "nbformat_minor": 5
}
